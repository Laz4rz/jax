{
 "cells": [
  {
   "cell_type": "markdown",
   "metadata": {},
   "source": [
    "Computation blocking does not work without an external accelerator => `.block_until_ready()` does not change anything on CPU."
   ]
  },
  {
   "cell_type": "code",
   "execution_count": 9,
   "metadata": {},
   "outputs": [
    {
     "name": "stdout",
     "output_type": "stream",
     "text": [
      "JAX uses TFRT_CPU_0\n",
      "All devices: [CpuDevice(id=0)]\n",
      "TFRT_CPU_0\n",
      "\n",
      "jax:    0.4.23\n",
      "jaxlib: 0.4.23.dev20240124\n",
      "numpy:  1.26.4\n",
      "python: 3.11.8 (main, Feb 26 2024, 15:36:12) [Clang 14.0.6 ]\n",
      "jax.devices (1 total, 1 local): [CpuDevice(id=0)]\n",
      "process_count: 1\n"
     ]
    }
   ],
   "source": [
    "from timeit import timeit\n",
    "\n",
    "import jax\n",
    "import jax.numpy as jnp\n",
    "from jax import random\n",
    "\n",
    "print(f\"JAX uses {jax.devices()[0]}\")\n",
    "print(f\"All devices: {jax.devices()}\")\n",
    "\n",
    "print(str(jax.devices()[0])+\"\\n\")\n",
    "jax.print_environment_info()"
   ]
  },
  {
   "cell_type": "code",
   "execution_count": 2,
   "metadata": {},
   "outputs": [],
   "source": [
    "n_repetitions = 3\n",
    "random_key = random.key(0)\n",
    "n = m = 10000\n",
    "\n",
    "a = random.normal(random.key(0), (n, m))"
   ]
  },
  {
   "cell_type": "code",
   "execution_count": 5,
   "metadata": {},
   "outputs": [
    {
     "name": "stdout",
     "output_type": "stream",
     "text": [
      "CPU times: user 25.9 s, sys: 225 ms, total: 26.2 s\n",
      "Wall time: 2.63 s\n"
     ]
    },
    {
     "data": {
      "text/plain": [
       "Array([[ 1.00605127e+04, -9.98898697e+01, -1.03874741e+02, ...,\n",
       "        -1.23548309e+02,  4.76367188e+01, -1.07481346e+02],\n",
       "       [-9.98898697e+01,  9.81832812e+03,  1.29423264e+02, ...,\n",
       "         2.41553478e+01, -5.59049911e+01, -1.96277191e+02],\n",
       "       [-1.03874741e+02,  1.29423264e+02,  1.01703125e+04, ...,\n",
       "        -2.91883240e+01, -1.04301395e+01,  3.90429420e+01],\n",
       "       ...,\n",
       "       [-1.23548309e+02,  2.41553478e+01, -2.91883240e+01, ...,\n",
       "         1.00786738e+04, -5.32247467e+01,  4.03939056e+00],\n",
       "       [ 4.76367188e+01, -5.59049911e+01, -1.04301395e+01, ...,\n",
       "        -5.32247467e+01,  9.87218262e+03, -1.78523064e+01],\n",
       "       [-1.07481346e+02, -1.96277191e+02,  3.90429420e+01, ...,\n",
       "         4.03939056e+00, -1.78523064e+01,  1.01478418e+04]],      dtype=float32)"
      ]
     },
     "execution_count": 5,
     "metadata": {},
     "output_type": "execute_result"
    }
   ],
   "source": [
    "%time jnp.dot(a, a.T)"
   ]
  },
  {
   "cell_type": "code",
   "execution_count": 6,
   "metadata": {},
   "outputs": [
    {
     "name": "stdout",
     "output_type": "stream",
     "text": [
      "CPU times: user 26.1 s, sys: 433 ms, total: 26.5 s\n",
      "Wall time: 2.69 s\n"
     ]
    },
    {
     "data": {
      "text/plain": [
       "Array([[ 1.00605127e+04, -9.98898697e+01, -1.03874741e+02, ...,\n",
       "        -1.23548309e+02,  4.76367188e+01, -1.07481346e+02],\n",
       "       [-9.98898697e+01,  9.81832812e+03,  1.29423264e+02, ...,\n",
       "         2.41553478e+01, -5.59049911e+01, -1.96277191e+02],\n",
       "       [-1.03874741e+02,  1.29423264e+02,  1.01703125e+04, ...,\n",
       "        -2.91883240e+01, -1.04301395e+01,  3.90429420e+01],\n",
       "       ...,\n",
       "       [-1.23548309e+02,  2.41553478e+01, -2.91883240e+01, ...,\n",
       "         1.00786738e+04, -5.32247467e+01,  4.03939056e+00],\n",
       "       [ 4.76367188e+01, -5.59049911e+01, -1.04301395e+01, ...,\n",
       "        -5.32247467e+01,  9.87218262e+03, -1.78523064e+01],\n",
       "       [-1.07481346e+02, -1.96277191e+02,  3.90429420e+01, ...,\n",
       "         4.03939056e+00, -1.78523064e+01,  1.01478418e+04]],      dtype=float32)"
      ]
     },
     "execution_count": 6,
     "metadata": {},
     "output_type": "execute_result"
    }
   ],
   "source": [
    "%time jnp.dot(a, a.T).block_until_ready()"
   ]
  },
  {
   "cell_type": "code",
   "execution_count": 7,
   "metadata": {},
   "outputs": [
    {
     "name": "stdout",
     "output_type": "stream",
     "text": [
      "2.52 s ± 7.45 ms per loop (mean ± std. dev. of 7 runs, 1 loop each)\n"
     ]
    }
   ],
   "source": [
    "%timeit jnp.dot(a, a.T)"
   ]
  },
  {
   "cell_type": "code",
   "execution_count": 8,
   "metadata": {},
   "outputs": [
    {
     "name": "stdout",
     "output_type": "stream",
     "text": [
      "2.58 s ± 81.7 ms per loop (mean ± std. dev. of 7 runs, 1 loop each)\n"
     ]
    }
   ],
   "source": [
    "%timeit jnp.dot(a, a.T).block_until_ready()"
   ]
  },
  {
   "cell_type": "code",
   "execution_count": null,
   "metadata": {},
   "outputs": [],
   "source": []
  }
 ],
 "metadata": {
  "kernelspec": {
   "display_name": "jax",
   "language": "python",
   "name": "python3"
  },
  "language_info": {
   "codemirror_mode": {
    "name": "ipython",
    "version": 3
   },
   "file_extension": ".py",
   "mimetype": "text/x-python",
   "name": "python",
   "nbconvert_exporter": "python",
   "pygments_lexer": "ipython3",
   "version": "3.11.8"
  }
 },
 "nbformat": 4,
 "nbformat_minor": 2
}
